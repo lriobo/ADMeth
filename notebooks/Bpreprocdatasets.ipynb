{
 "cells": [
  {
   "cell_type": "code",
   "execution_count": 6,
   "id": "59b34133-449f-480c-863a-34f403270168",
   "metadata": {},
   "outputs": [],
   "source": [
    "import numpy as np\n",
    "import pandas as pd\n",
    "from pathlib import Path"
   ]
  },
  {
   "cell_type": "code",
   "execution_count": 2,
   "id": "36997fa5-1c64-467e-95f9-31d02a3635e0",
   "metadata": {},
   "outputs": [
    {
     "data": {
      "text/html": [
       "<div>\n",
       "<style scoped>\n",
       "    .dataframe tbody tr th:only-of-type {\n",
       "        vertical-align: middle;\n",
       "    }\n",
       "\n",
       "    .dataframe tbody tr th {\n",
       "        vertical-align: top;\n",
       "    }\n",
       "\n",
       "    .dataframe thead th {\n",
       "        text-align: right;\n",
       "    }\n",
       "</style>\n",
       "<table border=\"1\" class=\"dataframe\">\n",
       "  <thead>\n",
       "    <tr style=\"text-align: right;\">\n",
       "      <th></th>\n",
       "      <th>Unnamed: 0</th>\n",
       "      <th>CpG</th>\n",
       "      <th>CHR_hg38</th>\n",
       "      <th>Start_hg38</th>\n",
       "      <th>UCSC_RefGene_Name</th>\n",
       "    </tr>\n",
       "  </thead>\n",
       "  <tbody>\n",
       "    <tr>\n",
       "      <th>0</th>\n",
       "      <td>0</td>\n",
       "      <td>cg16619049</td>\n",
       "      <td>1</td>\n",
       "      <td>870160.0</td>\n",
       "      <td>FAM41C</td>\n",
       "    </tr>\n",
       "    <tr>\n",
       "      <th>1</th>\n",
       "      <td>1</td>\n",
       "      <td>cg18147296</td>\n",
       "      <td>1</td>\n",
       "      <td>877158.0</td>\n",
       "      <td>FAM41C</td>\n",
       "    </tr>\n",
       "    <tr>\n",
       "      <th>2</th>\n",
       "      <td>2</td>\n",
       "      <td>cg13938959</td>\n",
       "      <td>1</td>\n",
       "      <td>898802.0</td>\n",
       "      <td>NaN</td>\n",
       "    </tr>\n",
       "    <tr>\n",
       "      <th>3</th>\n",
       "      <td>3</td>\n",
       "      <td>cg12445832</td>\n",
       "      <td>1</td>\n",
       "      <td>898914.0</td>\n",
       "      <td>NaN</td>\n",
       "    </tr>\n",
       "    <tr>\n",
       "      <th>4</th>\n",
       "      <td>4</td>\n",
       "      <td>cg11527153</td>\n",
       "      <td>1</td>\n",
       "      <td>902155.0</td>\n",
       "      <td>NaN</td>\n",
       "    </tr>\n",
       "    <tr>\n",
       "      <th>...</th>\n",
       "      <td>...</td>\n",
       "      <td>...</td>\n",
       "      <td>...</td>\n",
       "      <td>...</td>\n",
       "      <td>...</td>\n",
       "    </tr>\n",
       "    <tr>\n",
       "      <th>319995</th>\n",
       "      <td>319995</td>\n",
       "      <td>cg26034629</td>\n",
       "      <td>22</td>\n",
       "      <td>50736935.0</td>\n",
       "      <td>ACR</td>\n",
       "    </tr>\n",
       "    <tr>\n",
       "      <th>319996</th>\n",
       "      <td>319996</td>\n",
       "      <td>cg25232725</td>\n",
       "      <td>22</td>\n",
       "      <td>50737086.0</td>\n",
       "      <td>ACR</td>\n",
       "    </tr>\n",
       "    <tr>\n",
       "      <th>319997</th>\n",
       "      <td>319997</td>\n",
       "      <td>cg05615487</td>\n",
       "      <td>22</td>\n",
       "      <td>50737978.0</td>\n",
       "      <td>ACR</td>\n",
       "    </tr>\n",
       "    <tr>\n",
       "      <th>319998</th>\n",
       "      <td>319998</td>\n",
       "      <td>cg08423507</td>\n",
       "      <td>22</td>\n",
       "      <td>50739553.0</td>\n",
       "      <td>ACR</td>\n",
       "    </tr>\n",
       "    <tr>\n",
       "      <th>319999</th>\n",
       "      <td>319999</td>\n",
       "      <td>cg19565306</td>\n",
       "      <td>22</td>\n",
       "      <td>50783582.0</td>\n",
       "      <td>RABL2B;RPL23AP82</td>\n",
       "    </tr>\n",
       "  </tbody>\n",
       "</table>\n",
       "<p>320000 rows × 5 columns</p>\n",
       "</div>"
      ],
      "text/plain": [
       "        Unnamed: 0         CpG  CHR_hg38  Start_hg38 UCSC_RefGene_Name\n",
       "0                0  cg16619049         1    870160.0            FAM41C\n",
       "1                1  cg18147296         1    877158.0            FAM41C\n",
       "2                2  cg13938959         1    898802.0               NaN\n",
       "3                3  cg12445832         1    898914.0               NaN\n",
       "4                4  cg11527153         1    902155.0               NaN\n",
       "...            ...         ...       ...         ...               ...\n",
       "319995      319995  cg26034629        22  50736935.0               ACR\n",
       "319996      319996  cg25232725        22  50737086.0               ACR\n",
       "319997      319997  cg05615487        22  50737978.0               ACR\n",
       "319998      319998  cg08423507        22  50739553.0               ACR\n",
       "319999      319999  cg19565306        22  50783582.0  RABL2B;RPL23AP82\n",
       "\n",
       "[320000 rows x 5 columns]"
      ]
     },
     "execution_count": 2,
     "metadata": {},
     "output_type": "execute_result"
    }
   ],
   "source": [
    "Anno = pd.read_csv('/home/77462217B/lois/ADMeth/data/annotations/Anno320K.csv')\n",
    "Anno"
   ]
  },
  {
   "cell_type": "code",
   "execution_count": 3,
   "id": "2a7147b8-2fa5-4aeb-afc6-9d7ff5fdf156",
   "metadata": {},
   "outputs": [],
   "source": [
    "def filter_and_complete_dataframe(new_df, Anno):\n",
    "    # Ensure CpG is the index in Anno\n",
    "    Anno_index = Anno.set_index(\"CpG\")\n",
    "    # Filter new_df to keep only row names present in Anno[\"CpG\"]\n",
    "    new_df_filtered = new_df.loc[new_df.index.intersection(Anno_index.index)]\n",
    "    # Create a dataframe with all CpGs from Anno and default values of -1\n",
    "    new_df_complete = pd.DataFrame(index=Anno_index.index).join(new_df_filtered, how=\"left\").fillna(0)\n",
    "    print(\"Max value: \")    \n",
    "    print(new_df_complete.max().max())\n",
    "    print(\"Min value: \")    \n",
    "    print(new_df_complete.min().min())\n",
    "    return new_df_complete.astype(float)"
   ]
  },
  {
   "cell_type": "code",
   "execution_count": 7,
   "id": "2440fbca-a332-4d96-bd47-1eb630fafeef",
   "metadata": {},
   "outputs": [],
   "source": [
    "datasets = [\"/home/77462217B/lois/AAADMeth/data/datasets/Michaud_float16.npy\",\n",
    "      \"/home/77462217B/lois/AAADMeth/data/datasets/FraCon_float16.npy\",\n",
    "    \"/home/77462217B/lois/AAADMeth/data/datasets/FraCas_float16.npy\"]"
   ]
  },
  {
   "cell_type": "code",
   "execution_count": 8,
   "id": "a2d355fa-fd19-40de-8847-ed022e3e0e30",
   "metadata": {},
   "outputs": [
    {
     "name": "stdout",
     "output_type": "stream",
     "text": [
      "Processing Michaud_float16.npy ...\n"
     ]
    },
    {
     "ename": "TypeError",
     "evalue": "filter_and_complete_dataframe() missing 1 required positional argument: 'Anno'",
     "output_type": "error",
     "traceback": [
      "\u001b[0;31m---------------------------------------------------------------------------\u001b[0m",
      "\u001b[0;31mTypeError\u001b[0m                                 Traceback (most recent call last)",
      "Cell \u001b[0;32mIn[8], line 5\u001b[0m\n\u001b[1;32m      3\u001b[0m \u001b[38;5;28mprint\u001b[39m(\u001b[38;5;124mf\u001b[39m\u001b[38;5;124m\"\u001b[39m\u001b[38;5;124mProcessing \u001b[39m\u001b[38;5;132;01m{\u001b[39;00mpath\u001b[38;5;241m.\u001b[39mname\u001b[38;5;132;01m}\u001b[39;00m\u001b[38;5;124m ...\u001b[39m\u001b[38;5;124m\"\u001b[39m)\n\u001b[1;32m      4\u001b[0m arr \u001b[38;5;241m=\u001b[39m np\u001b[38;5;241m.\u001b[39mload(path)\n\u001b[0;32m----> 5\u001b[0m arr_clean \u001b[38;5;241m=\u001b[39m \u001b[43mfilter_and_complete_dataframe\u001b[49m\u001b[43m(\u001b[49m\u001b[43marr\u001b[49m\u001b[43m)\u001b[49m\n\u001b[1;32m      6\u001b[0m np\u001b[38;5;241m.\u001b[39msave(processed \u001b[38;5;241m/\u001b[39m \u001b[38;5;124mf\u001b[39m\u001b[38;5;124m\"\u001b[39m\u001b[38;5;132;01m{\u001b[39;00mpath\u001b[38;5;241m.\u001b[39mstem\u001b[38;5;132;01m}\u001b[39;00m\u001b[38;5;124m_clean.npy\u001b[39m\u001b[38;5;124m\"\u001b[39m, arr_clean)\n",
      "\u001b[0;31mTypeError\u001b[0m: filter_and_complete_dataframe() missing 1 required positional argument: 'Anno'"
     ]
    }
   ],
   "source": [
    "for path_str in datasets:\n",
    "    path = Path(path_str)\n",
    "    print(f\"Processing {path.name} ...\")\n",
    "    arr = np.load(path)\n",
    "    arr_clean = filter_and_complete_dataframe(arr)\n",
    "    np.save(processed / f\"{path.stem}_clean.npy\", arr_clean)"
   ]
  },
  {
   "cell_type": "code",
   "execution_count": 9,
   "id": "d6a9bd30-a5ce-4f1b-b8b5-8543ee406bbd",
   "metadata": {},
   "outputs": [],
   "source": [
    "Try = np.load(\"/home/77462217B/lois/AAADMeth/data/datasets/Michaud_float16.npy\")"
   ]
  },
  {
   "cell_type": "code",
   "execution_count": 10,
   "id": "0a3cde68-2960-4828-90f4-1d840f6b8a5b",
   "metadata": {},
   "outputs": [
    {
     "data": {
      "text/plain": [
       "array([[0.19439091, 0.22199062, 0.08521469, ..., 0.26659287, 0.17749409,\n",
       "        0.20258313],\n",
       "       [0.96320684, 0.98308528, 0.95353848, ..., 0.97194397, 0.97676248,\n",
       "        0.97047646],\n",
       "       [0.69405578, 0.68144497, 0.62272003, ..., 0.73266742, 0.71270285,\n",
       "        0.49914946],\n",
       "       ...,\n",
       "       [0.9301433 , 0.9291873 , 0.9410244 , ..., 0.8869033 , 0.9139026 ,\n",
       "        0.8588847 ],\n",
       "       [0.9792886 , 0.9794037 , 0.9768533 , ..., 0.9551175 , 0.9619825 ,\n",
       "        0.968908  ],\n",
       "       [0.01429852, 0.01747903, 0.01449071, ..., 0.01306529, 0.01421834,\n",
       "        0.01332604]], shape=(320000, 824))"
      ]
     },
     "execution_count": 10,
     "metadata": {},
     "output_type": "execute_result"
    }
   ],
   "source": [
    "Try"
   ]
  },
  {
   "cell_type": "code",
   "execution_count": null,
   "id": "67584aab-1d0b-4674-b13f-33a84bdccb60",
   "metadata": {},
   "outputs": [],
   "source": []
  }
 ],
 "metadata": {
  "kernelspec": {
   "display_name": "Python 3 (ipykernel)",
   "language": "python",
   "name": "python3"
  },
  "language_info": {
   "codemirror_mode": {
    "name": "ipython",
    "version": 3
   },
   "file_extension": ".py",
   "mimetype": "text/x-python",
   "name": "python",
   "nbconvert_exporter": "python",
   "pygments_lexer": "ipython3",
   "version": "3.12.8"
  }
 },
 "nbformat": 4,
 "nbformat_minor": 5
}
