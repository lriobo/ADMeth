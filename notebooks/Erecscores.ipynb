{
 "cells": [
  {
   "cell_type": "code",
   "execution_count": 1,
   "id": "4277b6d2-0f04-4682-8ae9-22267666a383",
   "metadata": {},
   "outputs": [],
   "source": [
    "import os\n",
    "import re\n",
    "import glob\n",
    "import pandas as pd\n",
    "import numpy as np\n",
    "from scipy.spatial import cKDTree"
   ]
  },
  {
   "cell_type": "code",
   "execution_count": 15,
   "id": "81dfef28-1461-4026-a255-b1844d9df48b",
   "metadata": {},
   "outputs": [],
   "source": [
    "MicMSE = np.load(\"/home/77462217B/lois/AAADMeth/data/datasets/Michaud_float16.npy\").T\n",
    "pdMic=pd.read_csv(\"/mnt/hydra/ubs/shared/users/Lois/DatasetsControles/OnlyMichaud/pdMichaud.txt\", sep=\",\")"
   ]
  },
  {
   "cell_type": "code",
   "execution_count": 16,
   "id": "dc451862-c5c1-4bf0-8781-94910df3e2ff",
   "metadata": {},
   "outputs": [
    {
     "data": {
      "text/plain": [
       "(824, 320000)"
      ]
     },
     "execution_count": 16,
     "metadata": {},
     "output_type": "execute_result"
    }
   ],
   "source": [
    "MicMSE.shape"
   ]
  },
  {
   "cell_type": "code",
   "execution_count": 22,
   "id": "90d6ff6a-1c79-4d6d-8dc9-3dddfc3ed13d",
   "metadata": {},
   "outputs": [],
   "source": [
    "keep = (pdMic[\"Status\"]==0)\n",
    "keep = keep.to_numpy()\n",
    "MicConMSE = pd.DataFrame(MicMSE).iloc[keep,:]\n",
    "pdMicCon = pdMic.iloc[keep,:]\n",
    "\n",
    "keep = (pdMic[\"Status\"]==1)\n",
    "keep = keep.to_numpy()\n",
    "MicCasMSE = pd.DataFrame(MicMSE).iloc[keep,:]\n",
    "pdMicCas = pdMic.iloc[keep,:]\n",
    "\n",
    "keep = (pdMicCas[\"YearsToDiagnosis\"]<=5)\n",
    "keep = keep.to_numpy()\n",
    "Mic5CasMSE = MicCasMSE.iloc[keep,:]\n",
    "\n",
    "keep = (pdMicCas[\"YearsToDiagnosis\"]<=3) \n",
    "keep = keep.to_numpy()\n",
    "Mic3CasMSE = MicCasMSE.iloc[keep,:]\n",
    "\n",
    "keep = (pdMicCas[\"YearsToDiagnosis\"]>10)\n",
    "keep = keep.to_numpy()\n",
    "MicM10CasMSE = MicCasMSE.iloc[keep,:]\n",
    "\n",
    "keep = (pdMicCas[\"YearsToDiagnosis\"]<=10) & (pdMicCas[\"YearsToDiagnosis\"]>5)\n",
    "keep = keep.to_numpy()\n",
    "Mic10CasMSE = MicCasMSE.iloc[keep,:]\n"
   ]
  },
  {
   "cell_type": "code",
   "execution_count": 25,
   "id": "0522ae58-4c88-4689-9f45-ec1de068d0ef",
   "metadata": {},
   "outputs": [],
   "source": [
    "np.save(\"/home/77462217B/lois/AAADMeth/data/datasets/cases/Mic3Cas_float16.npy\", Mic3CasMSE)"
   ]
  },
  {
   "cell_type": "code",
   "execution_count": null,
   "id": "16ccf1dd-cabe-4285-a9e2-c29dcc9d7240",
   "metadata": {},
   "outputs": [],
   "source": [
    "def group_columns_by_mean(data, group_size: int = 10, missing_value: float = -1):\n",
    "    \n",
    "    if isinstance(data, np.ndarray):\n",
    "        df = pd.DataFrame(data)\n",
    "    elif isinstance(data, pd.DataFrame):\n",
    "        df = data\n",
    "    else:\n",
    "        raise TypeError(\"Input should be a pandas.DataFrame or a numpy.ndarray.\")\n",
    "\n",
    "    n_cols = df.shape[1]\n",
    "    grouped_cols = []\n",
    "\n",
    "    for start in range(0, n_cols, group_size):\n",
    "        end = min(start + group_size, n_cols)\n",
    "        subset = df.iloc[:, start:end]\n",
    "        group_mean = subset.mask(subset.eq(missing_value), np.nan).mean(axis=1, skipna=True)\n",
    "        group_mean = group_mean.fillna(missing_value)\n",
    "        grouped_cols.append(group_mean)\n",
    "\n",
    "    grouped_matrix = pd.concat(grouped_cols, axis=1)\n",
    "    return grouped_matrix"
   ]
  },
  {
   "cell_type": "code",
   "execution_count": 4,
   "id": "a3f84eac-5ce1-4110-94b0-6e10e81bca81",
   "metadata": {},
   "outputs": [],
   "source": [
    "MicMSE = group_columns_by_mean(MicMSE, group_size=10)\n",
    "TrainConMSE = group_columns_by_mean(TrainConMSE, group_size=10)"
   ]
  },
  {
   "cell_type": "code",
   "execution_count": 6,
   "id": "f1533ce6-f8ea-4d4e-a066-7a1886f5e07f",
   "metadata": {},
   "outputs": [],
   "source": [
    "keep = (pdMic[\"Cohort\"]==\"PHS\")\n",
    "keep = keep.to_numpy()\n",
    "EVMicMSE = MicMSE.iloc[keep,:]\n",
    "EVpdMic = pdMic.iloc[keep,:]\n",
    "\n",
    "keep = (pdMic[\"Cohort\"]!=\"PHS\")\n",
    "keep = keep.to_numpy()\n",
    "CVMicMSE = MicMSE.iloc[keep,:]\n",
    "CVpdMic = pdMic.iloc[keep,:]\n",
    "\n",
    "keep = (CVpdMic[\"Status\"]==0)\n",
    "keep = keep.to_numpy()\n",
    "CVMicConMSE = CVMicMSE.iloc[keep,:]\n",
    "CVpdMicCon = CVpdMic.iloc[keep,:]\n",
    "\n",
    "keep = (CVpdMic[\"Status\"]==1)\n",
    "keep = keep.to_numpy()\n",
    "CVMicCasMSE = CVMicMSE.iloc[keep,:]\n",
    "CVpdMicCas = CVpdMic.iloc[keep,:]\n",
    "\n",
    "keep = (EVpdMic[\"Status\"]==0)\n",
    "keep = keep.to_numpy()\n",
    "EVMicConMSE = EVMicMSE.iloc[keep,:]\n",
    "EVpdMicCon = EVpdMic.iloc[keep,:]\n",
    "\n",
    "keep = (EVpdMic[\"Status\"]==1)\n",
    "keep = keep.to_numpy()\n",
    "EVMicCasMSE = EVMicMSE.iloc[keep,:]\n",
    "EVpdMicCas = EVpdMic.iloc[keep,:]\n",
    "\n",
    "keep = (CVpdMicCas[\"YearsToDiagnosis\"]<=5)\n",
    "keep = keep.to_numpy()\n",
    "CVMic5CasMSE = CVMicCasMSE.iloc[keep,:]\n",
    "\n",
    "keep = (CVpdMicCas[\"YearsToDiagnosis\"]<=3) \n",
    "keep = keep.to_numpy()\n",
    "CVMic3CasMSE = CVMicCasMSE.iloc[keep,:]\n",
    "\n",
    "keep = (CVpdMicCas[\"YearsToDiagnosis\"]>10)\n",
    "keep = keep.to_numpy()\n",
    "CVMicM10CasMSE = CVMicCasMSE.iloc[keep,:]\n",
    "\n",
    "keep = (CVpdMicCas[\"YearsToDiagnosis\"]<=10) & (CVpdMicCas[\"YearsToDiagnosis\"]>5)\n",
    "keep = keep.to_numpy()\n",
    "CVMic10CasMSE = CVMicCasMSE.iloc[keep,:]\n",
    "\n",
    "keep = (EVpdMicCas[\"YearsToDiagnosis\"]<=5)\n",
    "keep = keep.to_numpy()\n",
    "EVMic5CasMSE = EVMicCasMSE.iloc[keep,:]\n",
    "\n",
    "keep = (EVpdMicCas[\"YearsToDiagnosis\"]<=3) \n",
    "keep = keep.to_numpy()\n",
    "EVMic3CasMSE = EVMicCasMSE.iloc[keep,:]\n",
    "\n",
    "keep = (EVpdMicCas[\"YearsToDiagnosis\"]>10)\n",
    "keep = keep.to_numpy()\n",
    "EVMicM10CasMSE = EVMicCasMSE.iloc[keep,:]\n",
    "\n",
    "keep = (EVpdMicCas[\"YearsToDiagnosis\"]<=10) & (EVpdMicCas[\"YearsToDiagnosis\"]>5)\n",
    "keep = keep.to_numpy()\n",
    "EVMic10CasMSE = EVMicCasMSE.iloc[keep,:]"
   ]
  },
  {
   "cell_type": "markdown",
   "id": "82c47ec4-165d-49cb-b99a-cbf42ef91cf2",
   "metadata": {},
   "source": [
    "MSE Analysis"
   ]
  },
  {
   "cell_type": "code",
   "execution_count": 8,
   "id": "816d48df-9671-44b4-9d1e-77210f0b96dc",
   "metadata": {},
   "outputs": [],
   "source": [
    "def BackgroundNormalization(ErrorsMatrix):\n",
    "    BCErrorsMatrix={}\n",
    "    for i in range(ErrorsMatrix.shape[0]):\n",
    "        #BCErrorsMatrix[i] = ErrorsMatrix.loc[i,:]/(ErrorsMatrix.loc[i,:].mean())\n",
    "        BCErrorsMatrix[i] = ErrorsMatrix.iloc[i,:]/(ErrorsMatrix.iloc[i,:].median())\n",
    "    BCErrorsMatrix = pd.DataFrame(BCErrorsMatrix).T\n",
    "    return BCErrorsMatrix"
   ]
  },
  {
   "cell_type": "code",
   "execution_count": 9,
   "id": "e72cc21e-2a36-4ed2-a3ed-8fcd820c2424",
   "metadata": {},
   "outputs": [],
   "source": [
    "BCTrainConMSE =  BackgroundNormalization(TrainConMSE)\n",
    "\n",
    "EVMicMSE = BackgroundNormalization(EVMicMSE)\n",
    "EVMicConMSE = BackgroundNormalization(EVMicConMSE)\n",
    "EVMicCasMSE = BackgroundNormalization(EVMicCasMSE)\n",
    "EVMic5CasMSE = BackgroundNormalization(EVMic5CasMSE)\n",
    "EVMic3CasMSE = BackgroundNormalization(EVMic3CasMSE)\n",
    "EVMicM10CasMSE = BackgroundNormalization(EVMicM10CasMSE)\n",
    "EVMic10CasMSE = BackgroundNormalization(EVMic10CasMSE)\n",
    "\n",
    "CVMicMSE = BackgroundNormalization(CVMicMSE)\n",
    "CVMicConMSE = BackgroundNormalization(CVMicConMSE)\n",
    "CVMicCasMSE = BackgroundNormalization(CVMicCasMSE)\n",
    "CVMic5CasMSE = BackgroundNormalization(CVMic5CasMSE)\n",
    "CVMic3CasMSE = BackgroundNormalization(CVMic3CasMSE)\n",
    "CVMicM10CasMSE = BackgroundNormalization(CVMicM10CasMSE)\n",
    "CVMic10CasMSE = BackgroundNormalization(CVMic10CasMSE)"
   ]
  },
  {
   "cell_type": "code",
   "execution_count": 10,
   "id": "19e5a9dd-87a9-48ff-a5bb-0c1506e68b13",
   "metadata": {},
   "outputs": [],
   "source": [
    "def ScoreRegion(BCErrorsMatrix, BCErrorsMatrixControls):\n",
    "    ScoreMatrix=((BCErrorsMatrix-BCErrorsMatrixControls.mean(axis=0))/(BCErrorsMatrixControls.std(axis=0)))\n",
    "    return ScoreMatrix"
   ]
  },
  {
   "cell_type": "code",
   "execution_count": 13,
   "id": "172055f3-cb95-4ef2-b21c-ff1328f1b9b6",
   "metadata": {},
   "outputs": [
    {
     "name": "stderr",
     "output_type": "stream",
     "text": [
      "/home/77462217B/.local/lib/python3.12/site-packages/numpy/_core/_methods.py:52: RuntimeWarning: overflow encountered in reduce\n",
      "  return umr_sum(a, axis, dtype, out, keepdims, initial, where)\n"
     ]
    }
   ],
   "source": [
    "EVMicMSE = ScoreRegion(EVMicMSE, BCTrainConMSE)\n",
    "EVMicConMSE = ScoreRegion(EVMicConMSE, BCTrainConMSE)\n",
    "EVMicCasMSE = ScoreRegion(EVMicCasMSE, BCTrainConMSE)\n",
    "EVMic5CasMSE = ScoreRegion(EVMic5CasMSE, BCTrainConMSE)\n",
    "EVMic3CasMSE = ScoreRegion(EVMic3CasMSE, BCTrainConMSE)\n",
    "EVMicM10CasMSE = ScoreRegion(EVMicM10CasMSE, BCTrainConMSE)\n",
    "EVMic10CasMSE = ScoreRegion(EVMic10CasMSE, BCTrainConMSE)\n",
    "\n",
    "CVMicMSE = ScoreRegion(CVMicMSE, BCTrainConMSE)\n",
    "CVMicConMSE = ScoreRegion(CVMicConMSE, BCTrainConMSE)\n",
    "CVMicCasMSE = ScoreRegion(CVMicCasMSE, BCTrainConMSE)\n",
    "CVMic5CasMSE = ScoreRegion(CVMic5CasMSE, BCTrainConMSE)\n",
    "CVMic3CasMSE = ScoreRegion(CVMic3CasMSE, BCTrainConMSE)\n",
    "CVMicM10CasMSE = ScoreRegion(CVMicM10CasMSE, BCTrainConMSE)\n",
    "CVMic10CasMSE = ScoreRegion(CVMic10CasMSE, BCTrainConMSE)"
   ]
  },
  {
   "cell_type": "code",
   "execution_count": 12,
   "id": "41b4571e-557e-4e34-84b0-d11b8cf71397",
   "metadata": {},
   "outputs": [],
   "source": [
    "EVMicMSE.to_csv('/home/77462217B/lois/ADMeth/outcomes/MRS/EV/EVMicMSE.csv', index=False)\n",
    "EVMicConMSE.to_csv('/home/77462217B/lois/ADMeth/outcomes/MRS/EV/EVMicConMSE.csv', index=False)\n",
    "EVMicCasMSE.to_csv('/home/77462217B/lois/ADMeth/outcomes/MRS/EV/EVMicCasMSE.csv', index=False)\n",
    "EVMic5CasMSE.to_csv('/home/77462217B/lois/ADMeth/outcomes/MRS/EV/EVMic5CasMSE.csv', index=False)\n",
    "EVMic3CasMSE.to_csv('/home/77462217B/lois/ADMeth/outcomes/MRS/EV/EVMic3CasMSE.csv', index=False)\n",
    "EVMicM10CasMSE.to_csv('/home/77462217B/lois/ADMeth/outcomes/MRS/EV/EVMicM10CasMSE.csv', index=False)\n",
    "EVMic10CasMSE.to_csv('/home/77462217B/lois/ADMeth/outcomes/MRS/EV/EVMic10CasMSE.csv', index=False)\n",
    "\n",
    "CVMicMSE.to_csv('/home/77462217B/lois/ADMeth/outcomes/MRS/CV/CVMicMSE.csv', index=False)\n",
    "CVMicConMSE.to_csv('/home/77462217B/lois/ADMeth/outcomes/MRS/CV/CVMicConMSE.csv', index=False)\n",
    "CVMicCasMSE.to_csv('/home/77462217B/lois/ADMeth/outcomes/MRS/CV/CVMicCasMSE.csv', index=False)\n",
    "CVMic5CasMSE.to_csv('/home/77462217B/lois/ADMeth/outcomes/MRS/CV/CVMic5CasMSE.csv', index=False)\n",
    "CVMic3CasMSE.to_csv('/home/77462217B/lois/ADMeth/outcomes/MRS/CV/CVMic3CasMSE.csv', index=False)\n",
    "CVMicM10CasMSE.to_csv('/home/77462217B/lois/ADMeth/outcomes/MRS/CV/CVMicM10CasMSE.csv', index=False)\n",
    "CVMic10CasMSE.to_csv('/home/77462217B/lois/ADMeth/outcomes/MRS/CV/CVMic10CasMSE.csv', index=False)"
   ]
  },
  {
   "cell_type": "code",
   "execution_count": null,
   "id": "f07087e8-80c3-4eb8-b476-630c591de707",
   "metadata": {},
   "outputs": [],
   "source": [
    "def DiffControls(BCErrorsMatrix, BCErrorsMatrixControls):\n",
    "    DiffErrorsMatrix=((BCErrorsMatrix.mean(axis=0)-BCErrorsMatrixControls.mean(axis=0))/BCErrorsMatrixControls.mean(axis=0))\n",
    "    return DiffErrorsMatrix"
   ]
  },
  {
   "cell_type": "code",
   "execution_count": 55,
   "id": "8ab53916-892d-433a-ba63-0d5e26ee8b4c",
   "metadata": {},
   "outputs": [],
   "source": [
    "DiffMicConMSE = DiffControls(BCMicConMSE, BCMicConMSE)\n",
    "DiffMicCasMSE = DiffControls(BCMicCasMSE, BCMicConMSE)\n",
    "DiffMic5CasMSE = DiffControls(BCMic5CasMSE, BCMicConMSE)\n",
    "DiffMic3CasMSE = DiffControls(BCMic3CasMSE, BCMicConMSE)\n",
    "DiffMic10CasMSE = DiffControls(BCMic10CasMSE, BCMicConMSE)\n",
    "DiffMicM10CasMSE = DiffControls(BCMicM10CasMSE, BCMicConMSE)"
   ]
  }
 ],
 "metadata": {
  "kernelspec": {
   "display_name": "Python 3 (ipykernel)",
   "language": "python",
   "name": "python3"
  },
  "language_info": {
   "codemirror_mode": {
    "name": "ipython",
    "version": 3
   },
   "file_extension": ".py",
   "mimetype": "text/x-python",
   "name": "python",
   "nbconvert_exporter": "python",
   "pygments_lexer": "ipython3",
   "version": "3.12.8"
  }
 },
 "nbformat": 4,
 "nbformat_minor": 5
}
